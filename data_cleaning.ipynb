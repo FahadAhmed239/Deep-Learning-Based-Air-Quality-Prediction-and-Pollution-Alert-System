{
 "cells": [
  {
   "cell_type": "markdown",
   "id": "5f5f5b81",
   "metadata": {},
   "source": [
    "# Data Cleaning - Air Quality Dataset\n",
    "This notebook performs cleaning and preprocessing of the Air Quality dataset."
   ]
  },
  {
   "cell_type": "code",
   "execution_count": null,
   "id": "f2b120b0",
   "metadata": {},
   "outputs": [],
   "source": [
    "\n",
    "import pandas as pd\n",
    "import numpy as np\n",
    "\n",
    "# Load dataset\n",
    "df = pd.read_csv(\"dataset/air_quality.csv\")\n",
    "print(\"Initial shape:\", df.shape)\n",
    "df.head()\n"
   ]
  },
  {
   "cell_type": "code",
   "execution_count": null,
   "id": "21cc2743",
   "metadata": {},
   "outputs": [],
   "source": [
    "\n",
    "# Check missing values\n",
    "print(\"Missing values per column:\")\n",
    "print(df.isnull().sum())\n"
   ]
  },
  {
   "cell_type": "code",
   "execution_count": null,
   "id": "1fac7020",
   "metadata": {},
   "outputs": [],
   "source": [
    "\n",
    "# Fill missing numeric values with column mean\n",
    "for col in df.select_dtypes(include=[np.number]).columns:\n",
    "    df[col].fillna(df[col].mean(), inplace=True)\n",
    "\n",
    "print(\"Missing values after filling:\")\n",
    "print(df.isnull().sum())\n"
   ]
  },
  {
   "cell_type": "code",
   "execution_count": null,
   "id": "82fde565",
   "metadata": {},
   "outputs": [],
   "source": [
    "\n",
    "# Drop duplicate rows\n",
    "df.drop_duplicates(inplace=True)\n",
    "print(\"Shape after dropping duplicates:\", df.shape)\n"
   ]
  },
  {
   "cell_type": "code",
   "execution_count": null,
   "id": "fc8b2251",
   "metadata": {},
   "outputs": [],
   "source": [
    "\n",
    "from sklearn.preprocessing import MinMaxScaler\n",
    "\n",
    "scaler = MinMaxScaler()\n",
    "num_cols = df.select_dtypes(include=[np.number]).columns\n",
    "\n",
    "df[num_cols] = scaler.fit_transform(df[num_cols])\n",
    "print(\"Dataset normalized.\")\n",
    "df.head()\n"
   ]
  },
  {
   "cell_type": "code",
   "execution_count": null,
   "id": "9cf3bff7",
   "metadata": {},
   "outputs": [],
   "source": [
    "\n",
    "# Save cleaned dataset\n",
    "df.to_csv(\"dataset/air_quality_cleaned.csv\", index=False)\n",
    "print(\"Cleaned dataset saved as dataset/air_quality_cleaned.csv\")\n"
   ]
  }
 ],
 "metadata": {},
 "nbformat": 4,
 "nbformat_minor": 5
}
