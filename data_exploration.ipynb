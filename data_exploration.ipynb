{
 "cells": [
  {
   "cell_type": "markdown",
   "id": "175e60a9",
   "metadata": {},
   "source": [
    "# Air Quality Data Exploration\n",
    "This notebook explores the air quality dataset and provides initial insights."
   ]
  },
  {
   "cell_type": "code",
   "execution_count": null,
   "id": "9f225500",
   "metadata": {},
   "outputs": [],
   "source": [
    "\n",
    "import pandas as pd\n",
    "import matplotlib.pyplot as plt\n",
    "\n",
    "# Load dataset\n",
    "df = pd.read_csv(\"../dataset/air_quality_dataset.csv\")\n",
    "df.head()\n"
   ]
  },
  {
   "cell_type": "code",
   "execution_count": null,
   "id": "6cc8eb59",
   "metadata": {},
   "outputs": [],
   "source": [
    "\n",
    "# Dataset Information\n",
    "df.info()\n"
   ]
  },
  {
   "cell_type": "code",
   "execution_count": null,
   "id": "b22c00cd",
   "metadata": {},
   "outputs": [],
   "source": [
    "\n",
    "# Statistical Summary\n",
    "df.describe()\n"
   ]
  },
  {
   "cell_type": "code",
   "execution_count": null,
   "id": "3216a2fe",
   "metadata": {},
   "outputs": [],
   "source": [
    "\n",
    "# PM2.5 Trend\n",
    "plt.figure(figsize=(10,5))\n",
    "plt.plot(df['Date'], df['PM2.5'], marker='o', label='PM2.5')\n",
    "plt.xticks(rotation=45)\n",
    "plt.xlabel(\"Date\")\n",
    "plt.ylabel(\"PM2.5 Concentration (µg/m³)\")\n",
    "plt.title(\"PM2.5 Trend Over Time\")\n",
    "plt.legend()\n",
    "plt.show()\n"
   ]
  },
  {
   "cell_type": "code",
   "execution_count": null,
   "id": "34587c56",
   "metadata": {},
   "outputs": [],
   "source": [
    "\n",
    "# AQI Category Distribution\n",
    "df['AQI_Category'].value_counts().plot(kind='bar', figsize=(6,4), title=\"AQI Category Distribution\")\n",
    "plt.xlabel(\"AQI Category\")\n",
    "plt.ylabel(\"Count\")\n",
    "plt.show()\n"
   ]
  }
 ],
 "metadata": {},
 "nbformat": 4,
 "nbformat_minor": 5
}
